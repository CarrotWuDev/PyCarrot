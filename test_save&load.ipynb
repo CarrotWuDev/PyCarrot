{
 "cells": [
  {
   "cell_type": "code",
   "execution_count": 1,
   "metadata": {},
   "outputs": [],
   "source": [
    "import pycarrot.nn as nn\n",
    "import pycarrot.optim as optim\n",
    "from pycarrot.carrot import Carrot\n",
    "import numpy as np\n",
    "import pandas as pd\n",
    "import pycarrot\n",
    "import pycarrot.nn.functional as F"
   ]
  },
  {
   "cell_type": "code",
   "execution_count": 2,
   "metadata": {},
   "outputs": [],
   "source": [
    "# we learn y=2x, w->2, not bias\n",
    "class Model(nn.Module):\n",
    "    def __init__(self):\n",
    "        super().__init__()\n",
    "        self.layer1 = nn.Linear(1, 1)\n",
    "        self.layer1.weight = nn.Parameter(np.array([[100.]]), requires_grad=True)\n",
    "        self.layer1.bias.requires_grad = False\n",
    "        pass\n",
    "    def forward(self, input):\n",
    "        return self.layer1(input)"
   ]
  },
  {
   "cell_type": "code",
   "execution_count": 4,
   "metadata": {},
   "outputs": [
    {
     "name": "stdout",
     "output_type": "stream",
     "text": [
      "y = 100.0x\n",
      "y = 80.4x\n",
      "y = 64.72x\n",
      "y = 52.176x\n",
      "y = 42.1408x\n",
      "y = 34.11264x\n",
      "y = 27.690112x\n",
      "y = 22.5520896x\n",
      "y = 18.44167168x\n",
      "y = 15.153337343999999x\n",
      "y = 12.522669875199998x\n",
      "y = 10.41813590016x\n",
      "y = 8.734508720128x\n",
      "y = 7.3876069761024x\n",
      "y = 6.310085580881919x\n",
      "y = 5.4480684647055355x\n",
      "y = 4.758454771764429x\n",
      "y = 4.206763817411543x\n",
      "y = 3.7654110539292347x\n",
      "y = 3.4123288431433876x\n",
      "y = 3.1298630745147102x\n",
      "y = 2.9038904596117683x\n",
      "y = 2.7231123676894144x\n",
      "y = 2.5784898941515317x\n",
      "y = 2.462791915321225x\n",
      "y = 2.37023353225698x\n",
      "y = 2.296186825805584x\n",
      "y = 2.236949460644467x\n",
      "y = 2.1895595685155738x\n",
      "y = 2.151647654812459x\n",
      "y = 2.121318123849967x\n",
      "y = 2.0970544990799738x\n",
      "y = 2.077643599263979x\n",
      "y = 2.062114879411183x\n",
      "y = 2.0496919035289465x\n",
      "y = 2.0397535228231574x\n",
      "y = 2.0318028182585257x\n",
      "y = 2.0254422546068205x\n",
      "y = 2.0203538036854565x\n",
      "y = 2.0162830429483654x\n",
      "y = 2.013026434358692x\n",
      "y = 2.0104211474869538x\n",
      "y = 2.008336917989563x\n",
      "y = 2.0066695343916505x\n",
      "y = 2.0053356275133205x\n",
      "y = 2.0042685020106563x\n",
      "y = 2.003414801608525x\n",
      "y = 2.00273184128682x\n",
      "y = 2.002185473029456x\n",
      "y = 2.0017483784235646x\n"
     ]
    }
   ],
   "source": [
    "model = Model()\n",
    "loss_func = nn.MSELoss()\n",
    "optimiser = optim.SGD(model.parameter(), learning_rate=0.1)\n",
    "\n",
    "x = Carrot(np.array([[1.0]]))\n",
    "y = Carrot(np.array([[2.0]]))\n",
    "epochs = 50\n",
    "\n",
    "for epoch in range(epochs):\n",
    "    print(f\"y = {model.layer1.weight.data.item()}x\")\n",
    "    pred = model(x)\n",
    "    loss = loss_func(pred, y)\n",
    "    loss.backward()\n",
    "    # print(model.layer1.weight.grad.data)\n",
    "    optimiser.step()\n",
    "    optimiser.zero_grad()"
   ]
  },
  {
   "cell_type": "code",
   "execution_count": 5,
   "metadata": {},
   "outputs": [],
   "source": [
    "pycarrot.save(model.state_dict(), \"models/linear_model.pth\")"
   ]
  },
  {
   "cell_type": "code",
   "execution_count": 7,
   "metadata": {},
   "outputs": [
    {
     "name": "stdout",
     "output_type": "stream",
     "text": [
      "{'layer1.weight': Carrot:([[2.0013987]], requires_grad=True), 'layer1.bias': Carrot:([0.], requires_grad=False)}\n"
     ]
    }
   ],
   "source": [
    "model1 = Model()\n",
    "model_parameters = pycarrot.load(\"models/linear_model.pth\")\n",
    "model1.load_state_dict(model_parameters)\n",
    "print(model1.state_dict())"
   ]
  }
 ],
 "metadata": {
  "kernelspec": {
   "display_name": "pytorch_gpu",
   "language": "python",
   "name": "python3"
  },
  "language_info": {
   "codemirror_mode": {
    "name": "ipython",
    "version": 3
   },
   "file_extension": ".py",
   "mimetype": "text/x-python",
   "name": "python",
   "nbconvert_exporter": "python",
   "pygments_lexer": "ipython3",
   "version": "3.12.3"
  }
 },
 "nbformat": 4,
 "nbformat_minor": 2
}
