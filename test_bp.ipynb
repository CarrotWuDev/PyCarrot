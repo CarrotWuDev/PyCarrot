{
 "cells": [
  {
   "cell_type": "code",
   "execution_count": 1,
   "metadata": {},
   "outputs": [],
   "source": [
    "import numpy as np\n",
    "import pycarrot.nn as nn\n",
    "from pycarrot.carrot import Carrot"
   ]
  },
  {
   "cell_type": "code",
   "execution_count": 2,
   "metadata": {},
   "outputs": [
    {
     "name": "stdout",
     "output_type": "stream",
     "text": [
      "[5 6 7]\n",
      "----------------\n",
      "[1. 1. 1.]\n",
      "----------------\n",
      "[3.]\n",
      "----------------\n",
      "[1. 1. 1.]\n"
     ]
    }
   ],
   "source": [
    "# test add\n",
    "x1 = Carrot([1], requires_grad=True)\n",
    "x2 = Carrot([4, 5, 6], requires_grad=True)\n",
    "\n",
    "y = x1 + x2\n",
    "print(y.data)\n",
    "print(\"----------------\")\n",
    "y.backward()\n",
    "print(y.grad.data)\n",
    "print(\"----------------\")\n",
    "print(x1.grad.data)\n",
    "print(\"----------------\")\n",
    "print(x2.grad.data)"
   ]
  },
  {
   "cell_type": "code",
   "execution_count": 3,
   "metadata": {},
   "outputs": [
    {
     "name": "stdout",
     "output_type": "stream",
     "text": [
      "[[19 23 27]\n",
      " [15 18 21]\n",
      " [19 23 27]]\n",
      "----------------\n",
      "[[1. 1. 1.]\n",
      " [1. 1. 1.]\n",
      " [1. 1. 1.]]\n",
      "----------------\n",
      "[[4. 5. 6.]\n",
      " [4. 5. 6.]\n",
      " [4. 5. 6.]]\n",
      "----------------\n",
      "[[15.]\n",
      " [15.]\n",
      " [15.]]\n",
      "----------------\n",
      "[[3. 3. 3.]\n",
      " [2. 2. 2.]\n",
      " [3. 3. 3.]]\n",
      "----------------\n",
      "[8. 8. 8.]\n",
      "----------------\n",
      "[3. 3. 3.]\n"
     ]
    }
   ],
   "source": [
    "# test mul(*)\n",
    "x1 = Carrot([[3], [2], [3]], requires_grad=True)\n",
    "x2 = Carrot([4, 5, 6], requires_grad=True)\n",
    "x3 = Carrot([7, 8, 9], requires_grad=True)\n",
    "\n",
    "y = x1 * x2 + x3\n",
    "print(y.data)\n",
    "print(\"----------------\")\n",
    "y.backward()\n",
    "print(y.grad.data)\n",
    "print(\"----------------\")\n",
    "print(y.grad.data * x2.data)\n",
    "print(\"----------------\")\n",
    "print(x1.grad.data)\n",
    "print(\"----------------\")\n",
    "print(y.grad.data * x1.data)\n",
    "print(\"----------------\")\n",
    "print(x2.grad.data)\n",
    "print(\"----------------\")\n",
    "print(x3.grad.data)"
   ]
  },
  {
   "cell_type": "code",
   "execution_count": 4,
   "metadata": {},
   "outputs": [
    {
     "name": "stdout",
     "output_type": "stream",
     "text": [
      "sub\n",
      "[3 3 3]\n",
      "----------------\n",
      "[1. 1. 1.]\n",
      "----------------\n",
      "[-1. -1. -1.]\n",
      "----------------\n",
      "[1. 1. 1.]\n",
      "----------------\n"
     ]
    }
   ],
   "source": [
    "# test sub(-)\n",
    "x1 = Carrot([4, 5, 6], requires_grad=True)\n",
    "x2 = Carrot([7, 8, 9], requires_grad=True)\n",
    "y = x2 - x1\n",
    "print(y.name)\n",
    "print(y.data)\n",
    "print(\"----------------\")\n",
    "y.backward()\n",
    "print(y.grad.data)\n",
    "print(\"----------------\")\n",
    "print(x1.grad.data)\n",
    "print(\"----------------\")\n",
    "print(x2.grad.data)\n",
    "print(\"----------------\")"
   ]
  },
  {
   "cell_type": "code",
   "execution_count": 27,
   "metadata": {},
   "outputs": [
    {
     "name": "stdout",
     "output_type": "stream",
     "text": [
      "pow\n",
      "[16 25 36]\n",
      "----------------\n",
      "[1. 1. 1.]\n",
      "----------------\n",
      "[ 8. 10. 12.]\n"
     ]
    }
   ],
   "source": [
    "# test pow\n",
    "x = Carrot([4, 5, 6], requires_grad=True)\n",
    "n = 2\n",
    "# y = x ** 2\n",
    "y = x.pow(2)\n",
    "print(y.name)\n",
    "print(y.data)\n",
    "print(\"----------------\")\n",
    "y.backward()\n",
    "print(y.grad.data)\n",
    "print(\"----------------\")\n",
    "print(x.grad.data)"
   ]
  },
  {
   "cell_type": "code",
   "execution_count": 29,
   "metadata": {},
   "outputs": [
    {
     "name": "stdout",
     "output_type": "stream",
     "text": [
      "[[1 2 3]\n",
      " [4 5 6]\n",
      " [7 8 9]]\n",
      "--------------\n",
      "[[5 6]\n",
      " [8 9]]\n",
      "--------------\n",
      "[[1. 1.]\n",
      " [1. 1.]]\n",
      "--------------\n",
      "[[0. 0. 0.]\n",
      " [0. 1. 1.]\n",
      " [0. 1. 1.]]\n"
     ]
    }
   ],
   "source": [
    "# test slice(getitem())\n",
    "x = Carrot([[1, 2, 3], [4, 5, 6], [7, 8, 9]], requires_grad=True)\n",
    "print(x.data)\n",
    "y = x[1:, 1:]\n",
    "print(\"--------------\")\n",
    "print(y.data)\n",
    "y.backward()\n",
    "print(\"--------------\")\n",
    "print(y.grad.data)\n",
    "print(\"--------------\")\n",
    "print(x.grad.data)"
   ]
  },
  {
   "cell_type": "code",
   "execution_count": 45,
   "metadata": {},
   "outputs": [
    {
     "name": "stdout",
     "output_type": "stream",
     "text": [
      "[[1 2 3]\n",
      " [4 5 6]\n",
      " [7 8 9]]\n",
      "---------------\n",
      "reshape\n",
      "---------------\n",
      "[[1]\n",
      " [2]\n",
      " [3]\n",
      " [4]\n",
      " [5]\n",
      " [6]\n",
      " [7]\n",
      " [8]\n",
      " [9]]\n",
      "---------------\n",
      "Carrot:([[1.]\n",
      " [1.]\n",
      " [1.]\n",
      " [1.]\n",
      " [1.]\n",
      " [1.]\n",
      " [1.]\n",
      " [1.]\n",
      " [1.]], requires_grad=False)\n",
      "---------------\n",
      "Carrot:([[1. 1. 1.]\n",
      " [1. 1. 1.]\n",
      " [1. 1. 1.]], requires_grad=False)\n"
     ]
    }
   ],
   "source": [
    "x = Carrot([[1, 2, 3], [4, 5, 6], [7, 8, 9]], requires_grad=True)\n",
    "\n",
    "print(x.data)\n",
    "print(\"---------------\")\n",
    "y = x.reshape((9, 1))\n",
    "print(y.name)\n",
    "print(\"---------------\")\n",
    "print(y.data)\n",
    "print(\"---------------\")\n",
    "y.backward()\n",
    "print(y.grad)\n",
    "print(\"---------------\")\n",
    "print(x.grad)"
   ]
  },
  {
   "cell_type": "code",
   "execution_count": 60,
   "metadata": {},
   "outputs": [
    {
     "name": "stdout",
     "output_type": "stream",
     "text": [
      "@\n",
      "----------\n",
      "[[14]]\n",
      "----------\n",
      "[[1.]]\n",
      "----------\n",
      "[[1. 2. 3.]]\n",
      "----------\n",
      "[[1.]\n",
      " [2.]\n",
      " [3.]]\n"
     ]
    }
   ],
   "source": [
    "# test matrix dot product\n",
    "# x = Carrot([1, 2, 3], requires_grad=True)\n",
    "x = Carrot([[1, 2, 3]], requires_grad=True)\n",
    "y = Carrot([[1], [2], [3]], requires_grad=True)\n",
    "\n",
    "z = x @ y\n",
    "print(z.name)\n",
    "print(\"----------\")\n",
    "print(z.data)\n",
    "print(\"----------\")\n",
    "z.backward()\n",
    "print(z.grad.data)\n",
    "print(\"----------\")\n",
    "print(x.grad.data)\n",
    "print(\"----------\")\n",
    "print(y.grad.data)"
   ]
  },
  {
   "cell_type": "code",
   "execution_count": 67,
   "metadata": {},
   "outputs": [
    {
     "name": "stdout",
     "output_type": "stream",
     "text": [
      "[[1]\n",
      " [2]\n",
      " [3]]\n",
      "------------\n",
      "sum\n",
      "6\n",
      "------------\n",
      "1\n",
      "------------\n",
      "[[1.]\n",
      " [1.]\n",
      " [1.]]\n"
     ]
    }
   ],
   "source": [
    "# test carrot.sum()\n",
    "x = Carrot([[1], [2], [3]], requires_grad=True)\n",
    "y = x.sum()\n",
    "print(x.data)\n",
    "print(\"------------\")\n",
    "print(y.name)\n",
    "print(y.data)\n",
    "print(\"------------\")\n",
    "y.backward()\n",
    "print(y.grad.data.size)\n",
    "print(\"------------\")\n",
    "print(x.grad.data)"
   ]
  },
  {
   "cell_type": "code",
   "execution_count": 73,
   "metadata": {},
   "outputs": [
    {
     "name": "stdout",
     "output_type": "stream",
     "text": [
      "3\n",
      "------------\n",
      "[[1 2 3]\n",
      " [4 5 6]\n",
      " [7 8 9]]\n",
      "------------\n",
      "mean\n",
      "5.0\n",
      "------------\n",
      "1\n",
      "------------\n",
      "[[0.33333333 0.33333333 0.33333333]\n",
      " [0.33333333 0.33333333 0.33333333]\n",
      " [0.33333333 0.33333333 0.33333333]]\n"
     ]
    }
   ],
   "source": [
    "x = Carrot([[1, 2, 3], [4, 5, 6], [7, 8, 9]], requires_grad=True)\n",
    "\n",
    "y = x.mean()\n",
    "print(len(x))\n",
    "print(\"------------\")\n",
    "print(x.data)\n",
    "print(\"------------\")\n",
    "print(y.name)\n",
    "print(y.data)\n",
    "print(\"------------\")\n",
    "y.backward()\n",
    "print(y.grad.data.size)\n",
    "print(\"------------\")\n",
    "print(x.grad.data)"
   ]
  },
  {
   "cell_type": "code",
   "execution_count": 10,
   "metadata": {},
   "outputs": [
    {
     "name": "stdout",
     "output_type": "stream",
     "text": [
      "[[1 2 3]\n",
      " [4 5 6]\n",
      " [7 8 9]]\n",
      "------------\n",
      "clip\n",
      "[[3 3 3]\n",
      " [4 5 6]\n",
      " [6 6 6]]\n",
      "------------\n",
      "[[1. 1. 1.]\n",
      " [1. 1. 1.]\n",
      " [1. 1. 1.]]\n",
      "------------\n",
      "[[0. 0. 1.]\n",
      " [1. 1. 1.]\n",
      " [0. 0. 0.]]\n"
     ]
    }
   ],
   "source": [
    "# test clamp\n",
    "x = Carrot([[1, 2, 3], [4, 5, 6], [7, 8, 9]], requires_grad=True)\n",
    "\n",
    "y = x.clamp(3, 6)\n",
    "print(x.data)\n",
    "print(\"------------\")\n",
    "print(y.name)\n",
    "print(y.data)\n",
    "print(\"------------\")\n",
    "y.backward()\n",
    "print(y.grad.data)\n",
    "print(\"------------\")\n",
    "print(x.grad.data)"
   ]
  },
  {
   "cell_type": "code",
   "execution_count": 15,
   "metadata": {},
   "outputs": [
    {
     "name": "stdout",
     "output_type": "stream",
     "text": [
      "Epoch 0, Loss: 5.014262031949656\n",
      "Epoch 10, Loss: 0.16243478625587252\n",
      "Epoch 20, Loss: 0.11405180534103909\n",
      "Epoch 30, Loss: 0.08937007332530515\n",
      "Epoch 40, Loss: 0.07057004904782653\n",
      "Epoch 50, Loss: 0.056218966757573645\n",
      "Epoch 60, Loss: 0.04526389954148419\n",
      "Epoch 70, Loss: 0.03690121996694665\n",
      "Epoch 80, Loss: 0.030517470027324967\n",
      "Epoch 90, Loss: 0.025644359330158708\n"
     ]
    },
    {
     "data": {
      "image/png": "[encoded data removed]",
      "text/plain": [
       "<Figure size 640x480 with 1 Axes>"
      ]
     },
     "metadata": {},
     "output_type": "display_data"
    }
   ],
   "source": [
    "import matplotlib.pyplot as plt\n",
    "\n",
    "# Generate some sample data\n",
    "np.random.seed(0)\n",
    "X = np.random.rand(100, 1)\n",
    "y = 2 * X + 1 + 0.1 * np.random.randn(100, 1)\n",
    "\n",
    "# Define a simple linear regression model\n",
    "class LinearRegression:\n",
    "    def __init__(self):\n",
    "        self.W = Carrot(np.random.randn(1, 1), requires_grad=True)\n",
    "        self.b = Carrot(np.zeros(1), requires_grad=True)\n",
    "\n",
    "    def predict(self, X):\n",
    "        return X @ self.W + self.b\n",
    "\n",
    "    def loss(self, y_pred, y_true):\n",
    "        return ((y_pred - y_true) ** 2).mean()\n",
    "\n",
    "    def train(self, X, y, lr=0.1, epochs=100):\n",
    "        for epoch in range(epochs):\n",
    "            y_pred = self.predict(X)\n",
    "            loss = self.loss(y_pred, y)\n",
    "            loss.backward()\n",
    "            self.W.data -= lr * self.W.grad.data\n",
    "            self.b.data -= lr * self.b.grad.data\n",
    "            self.W.zero_grad()\n",
    "            self.b.zero_grad()\n",
    "            if epoch % 10 == 0:\n",
    "                print(f\"Epoch {epoch}, Loss: {loss.data}\")\n",
    "\n",
    "# Convert data to Carrot objects\n",
    "X_carrot = Carrot(X, requires_grad=False)\n",
    "y_carrot = Carrot(y, requires_grad=False)\n",
    "\n",
    "# Train the model\n",
    "model = LinearRegression()\n",
    "model.train(X_carrot, y_carrot)\n",
    "\n",
    "# Plot the results\n",
    "plt.scatter(X, y, label=\"Data\")\n",
    "plt.plot(X, model.predict(X_carrot).data, color=\"red\", label=\"Fitted line\")\n",
    "plt.legend()\n",
    "plt.show()"
   ]
  },
  {
   "cell_type": "code",
   "execution_count": 23,
   "metadata": {},
   "outputs": [
    {
     "name": "stdout",
     "output_type": "stream",
     "text": [
      "Epoch 0, Loss: 12.557883685522778\n",
      "Epoch 10, Loss: 0.330203996142436\n",
      "Epoch 20, Loss: 0.1847861889742321\n",
      "Epoch 30, Loss: 0.1174541199317165\n",
      "Epoch 40, Loss: 0.08274340391972937\n",
      "Epoch 50, Loss: 0.064590958139378\n",
      "Epoch 60, Loss: 0.05485508983192028\n",
      "Epoch 70, Loss: 0.04940479207465139\n",
      "Epoch 80, Loss: 0.04614381212899915\n",
      "Epoch 90, Loss: 0.044008206911283605\n"
     ]
    },
    {
     "data": {
      "image/png": "[encoded data removed]",
      "text/plain": [
       "<Figure size 640x480 with 1 Axes>"
      ]
     },
     "metadata": {},
     "output_type": "display_data"
    }
   ],
   "source": [
    "class PolynomialRegression:\n",
    "    def __init__(self):\n",
    "        self.W1 = Carrot(np.random.randn(1, 1), requires_grad=True)\n",
    "        self.W2 = Carrot(np.random.randn(1, 1), requires_grad=True)\n",
    "        self.W3 = Carrot(np.random.randn(1, 1), requires_grad=True)\n",
    "        self.b = Carrot(np.zeros(1), requires_grad=True)\n",
    "\n",
    "    def predict(self, X):\n",
    "        return self.W1 * X + self.W2 * X.pow(2) + self.W3 * X.pow(3) + self.b\n",
    "\n",
    "    def loss(self, y_pred, y_true):\n",
    "        return ((y_pred - y_true) ** 2).mean()\n",
    "\n",
    "    def train(self, X, y, lr=0.1, epochs=100):\n",
    "        for epoch in range(epochs):\n",
    "            y_pred = self.predict(X)\n",
    "            loss = self.loss(y_pred, y)\n",
    "            loss.backward()\n",
    "            self.W1.data -= lr * self.W1.grad.data\n",
    "            self.W2.data -= lr * self.W2.grad.data\n",
    "            self.W3.data -= lr * self.W3.grad.data\n",
    "            self.b.data -= lr * self.b.grad.data\n",
    "            self.W1.zero_grad()\n",
    "            self.W2.zero_grad()\n",
    "            self.W3.zero_grad()\n",
    "            self.b.zero_grad()\n",
    "            if epoch % 10 == 0:\n",
    "                print(f\"Epoch {epoch}, Loss: {loss.data}\")\n",
    "\n",
    "# Convert data to Carrot objects\n",
    "X_carrot = Carrot(X, requires_grad=False)\n",
    "y_carrot = Carrot(y, requires_grad=False)\n",
    "\n",
    "# Train the model\n",
    "poly_model = PolynomialRegression()\n",
    "poly_model.train(X_carrot, y_carrot)\n",
    "\n",
    "# Plot the results\n",
    "plt.scatter(X, y, label=\"Data\")\n",
    "plt.plot(X, poly_model.predict(X_carrot).data, color=\"red\", label=\"Fitted line\")\n",
    "plt.legend()\n",
    "plt.show()"
   ]
  }
 ],
 "metadata": {
  "kernelspec": {
   "display_name": "pytorch_gpu",
   "language": "python",
   "name": "python3"
  },
  "language_info": {
   "codemirror_mode": {
    "name": "ipython",
    "version": 3
   },
   "file_extension": ".py",
   "mimetype": "text/x-python",
   "name": "python",
   "nbconvert_exporter": "python",
   "pygments_lexer": "ipython3",
   "version": "3.12.3"
  }
 },
 "nbformat": 4,
 "nbformat_minor": 2
}
