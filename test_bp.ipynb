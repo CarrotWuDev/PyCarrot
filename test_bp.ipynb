{
 "cells": [
  {
   "cell_type": "code",
   "execution_count": 1,
   "metadata": {},
   "outputs": [],
   "source": [
    "import numpy as np\n",
    "import pycarrot.nn as nn\n",
    "from pycarrot.carrot import Carrot"
   ]
  },
  {
   "cell_type": "code",
   "execution_count": 2,
   "metadata": {},
   "outputs": [
    {
     "name": "stdout",
     "output_type": "stream",
     "text": [
      "[5 6 7]\n",
      "----------------\n",
      "[1. 1. 1.]\n",
      "----------------\n",
      "[3.]\n",
      "----------------\n",
      "[1. 1. 1.]\n"
     ]
    }
   ],
   "source": [
    "# test add\n",
    "x1 = Carrot([1], requires_grad=True)\n",
    "x2 = Carrot([4, 5, 6], requires_grad=True)\n",
    "\n",
    "y = x1 + x2\n",
    "print(y.data)\n",
    "print(\"----------------\")\n",
    "y.backward()\n",
    "print(y.grad.data)\n",
    "print(\"----------------\")\n",
    "print(x1.grad.data)\n",
    "print(\"----------------\")\n",
    "print(x2.grad.data)"
   ]
  },
  {
   "cell_type": "code",
   "execution_count": 3,
   "metadata": {},
   "outputs": [
    {
     "name": "stdout",
     "output_type": "stream",
     "text": [
      "[[19 23 27]\n",
      " [15 18 21]\n",
      " [19 23 27]]\n",
      "----------------\n",
      "[[1. 1. 1.]\n",
      " [1. 1. 1.]\n",
      " [1. 1. 1.]]\n",
      "----------------\n",
      "[[4. 5. 6.]\n",
      " [4. 5. 6.]\n",
      " [4. 5. 6.]]\n",
      "----------------\n",
      "[[15.]\n",
      " [15.]\n",
      " [15.]]\n",
      "----------------\n",
      "[[3. 3. 3.]\n",
      " [2. 2. 2.]\n",
      " [3. 3. 3.]]\n",
      "----------------\n",
      "[8. 8. 8.]\n",
      "----------------\n",
      "[3. 3. 3.]\n"
     ]
    }
   ],
   "source": [
    "# test mul(*)\n",
    "x1 = Carrot([[3], [2], [3]], requires_grad=True)\n",
    "x2 = Carrot([4, 5, 6], requires_grad=True)\n",
    "x3 = Carrot([7, 8, 9], requires_grad=True)\n",
    "\n",
    "y = x1 * x2 + x3\n",
    "print(y.data)\n",
    "print(\"----------------\")\n",
    "y.backward()\n",
    "print(y.grad.data)\n",
    "print(\"----------------\")\n",
    "print(y.grad.data * x2.data)\n",
    "print(\"----------------\")\n",
    "print(x1.grad.data)\n",
    "print(\"----------------\")\n",
    "print(y.grad.data * x1.data)\n",
    "print(\"----------------\")\n",
    "print(x2.grad.data)\n",
    "print(\"----------------\")\n",
    "print(x3.grad.data)"
   ]
  },
  {
   "cell_type": "code",
   "execution_count": 4,
   "metadata": {},
   "outputs": [
    {
     "name": "stdout",
     "output_type": "stream",
     "text": [
      "sub\n",
      "[3 3 3]\n",
      "----------------\n",
      "[1. 1. 1.]\n",
      "----------------\n",
      "[-1. -1. -1.]\n",
      "----------------\n",
      "[1. 1. 1.]\n",
      "----------------\n"
     ]
    }
   ],
   "source": [
    "# test sub(-)\n",
    "x1 = Carrot([4, 5, 6], requires_grad=True)\n",
    "x2 = Carrot([7, 8, 9], requires_grad=True)\n",
    "y = x2 - x1\n",
    "print(y.name)\n",
    "print(y.data)\n",
    "print(\"----------------\")\n",
    "y.backward()\n",
    "print(y.grad.data)\n",
    "print(\"----------------\")\n",
    "print(x1.grad.data)\n",
    "print(\"----------------\")\n",
    "print(x2.grad.data)\n",
    "print(\"----------------\")"
   ]
  },
  {
   "cell_type": "code",
   "execution_count": 27,
   "metadata": {},
   "outputs": [
    {
     "name": "stdout",
     "output_type": "stream",
     "text": [
      "pow\n",
      "[16 25 36]\n",
      "----------------\n",
      "[1. 1. 1.]\n",
      "----------------\n",
      "[ 8. 10. 12.]\n"
     ]
    }
   ],
   "source": [
    "# test pow\n",
    "x = Carrot([4, 5, 6], requires_grad=True)\n",
    "n = 2\n",
    "# y = x ** 2\n",
    "y = x.pow(2)\n",
    "print(y.name)\n",
    "print(y.data)\n",
    "print(\"----------------\")\n",
    "y.backward()\n",
    "print(y.grad.data)\n",
    "print(\"----------------\")\n",
    "print(x.grad.data)"
   ]
  },
  {
   "cell_type": "code",
   "execution_count": 29,
   "metadata": {},
   "outputs": [
    {
     "name": "stdout",
     "output_type": "stream",
     "text": [
      "[[1 2 3]\n",
      " [4 5 6]\n",
      " [7 8 9]]\n",
      "--------------\n",
      "[[5 6]\n",
      " [8 9]]\n",
      "--------------\n",
      "[[1. 1.]\n",
      " [1. 1.]]\n",
      "--------------\n",
      "[[0. 0. 0.]\n",
      " [0. 1. 1.]\n",
      " [0. 1. 1.]]\n"
     ]
    }
   ],
   "source": [
    "# test slice(getitem())\n",
    "x = Carrot([[1, 2, 3], [4, 5, 6], [7, 8, 9]], requires_grad=True)\n",
    "print(x.data)\n",
    "y = x[1:, 1:]\n",
    "print(\"--------------\")\n",
    "print(y.data)\n",
    "y.backward()\n",
    "print(\"--------------\")\n",
    "print(y.grad.data)\n",
    "print(\"--------------\")\n",
    "print(x.grad.data)"
   ]
  },
  {
   "cell_type": "code",
   "execution_count": 45,
   "metadata": {},
   "outputs": [
    {
     "name": "stdout",
     "output_type": "stream",
     "text": [
      "[[1 2 3]\n",
      " [4 5 6]\n",
      " [7 8 9]]\n",
      "---------------\n",
      "reshape\n",
      "---------------\n",
      "[[1]\n",
      " [2]\n",
      " [3]\n",
      " [4]\n",
      " [5]\n",
      " [6]\n",
      " [7]\n",
      " [8]\n",
      " [9]]\n",
      "---------------\n",
      "Carrot:([[1.]\n",
      " [1.]\n",
      " [1.]\n",
      " [1.]\n",
      " [1.]\n",
      " [1.]\n",
      " [1.]\n",
      " [1.]\n",
      " [1.]], requires_grad=False)\n",
      "---------------\n",
      "Carrot:([[1. 1. 1.]\n",
      " [1. 1. 1.]\n",
      " [1. 1. 1.]], requires_grad=False)\n"
     ]
    }
   ],
   "source": [
    "x = Carrot([[1, 2, 3], [4, 5, 6], [7, 8, 9]], requires_grad=True)\n",
    "\n",
    "print(x.data)\n",
    "print(\"---------------\")\n",
    "y = x.reshape((9, 1))\n",
    "print(y.name)\n",
    "print(\"---------------\")\n",
    "print(y.data)\n",
    "print(\"---------------\")\n",
    "y.backward()\n",
    "print(y.grad)\n",
    "print(\"---------------\")\n",
    "print(x.grad)"
   ]
  },
  {
   "cell_type": "code",
   "execution_count": 60,
   "metadata": {},
   "outputs": [
    {
     "name": "stdout",
     "output_type": "stream",
     "text": [
      "@\n",
      "----------\n",
      "[[14]]\n",
      "----------\n",
      "[[1.]]\n",
      "----------\n",
      "[[1. 2. 3.]]\n",
      "----------\n",
      "[[1.]\n",
      " [2.]\n",
      " [3.]]\n"
     ]
    }
   ],
   "source": [
    "# test matrix dot product\n",
    "# x = Carrot([1, 2, 3], requires_grad=True)\n",
    "x = Carrot([[1, 2, 3]], requires_grad=True)\n",
    "y = Carrot([[1], [2], [3]], requires_grad=True)\n",
    "\n",
    "z = x @ y\n",
    "print(z.name)\n",
    "print(\"----------\")\n",
    "print(z.data)\n",
    "print(\"----------\")\n",
    "z.backward()\n",
    "print(z.grad.data)\n",
    "print(\"----------\")\n",
    "print(x.grad.data)\n",
    "print(\"----------\")\n",
    "print(y.grad.data)"
   ]
  },
  {
   "cell_type": "code",
   "execution_count": 67,
   "metadata": {},
   "outputs": [
    {
     "name": "stdout",
     "output_type": "stream",
     "text": [
      "[[1]\n",
      " [2]\n",
      " [3]]\n",
      "------------\n",
      "sum\n",
      "6\n",
      "------------\n",
      "1\n",
      "------------\n",
      "[[1.]\n",
      " [1.]\n",
      " [1.]]\n"
     ]
    }
   ],
   "source": [
    "# test carrot.sum()\n",
    "x = Carrot([[1], [2], [3]], requires_grad=True)\n",
    "y = x.sum()\n",
    "print(x.data)\n",
    "print(\"------------\")\n",
    "print(y.name)\n",
    "print(y.data)\n",
    "print(\"------------\")\n",
    "y.backward()\n",
    "print(y.grad.data.size)\n",
    "print(\"------------\")\n",
    "print(x.grad.data)"
   ]
  },
  {
   "cell_type": "code",
   "execution_count": 73,
   "metadata": {},
   "outputs": [
    {
     "name": "stdout",
     "output_type": "stream",
     "text": [
      "3\n",
      "------------\n",
      "[[1 2 3]\n",
      " [4 5 6]\n",
      " [7 8 9]]\n",
      "------------\n",
      "mean\n",
      "5.0\n",
      "------------\n",
      "1\n",
      "------------\n",
      "[[0.33333333 0.33333333 0.33333333]\n",
      " [0.33333333 0.33333333 0.33333333]\n",
      " [0.33333333 0.33333333 0.33333333]]\n"
     ]
    }
   ],
   "source": [
    "x = Carrot([[1, 2, 3], [4, 5, 6], [7, 8, 9]], requires_grad=True)\n",
    "\n",
    "y = x.mean()\n",
    "print(len(x))\n",
    "print(\"------------\")\n",
    "print(x.data)\n",
    "print(\"------------\")\n",
    "print(y.name)\n",
    "print(y.data)\n",
    "print(\"------------\")\n",
    "y.backward()\n",
    "print(y.grad.data.size)\n",
    "print(\"------------\")\n",
    "print(x.grad.data)"
   ]
  },
  {
   "cell_type": "code",
   "execution_count": 10,
   "metadata": {},
   "outputs": [
    {
     "name": "stdout",
     "output_type": "stream",
     "text": [
      "[[1 2 3]\n",
      " [4 5 6]\n",
      " [7 8 9]]\n",
      "------------\n",
      "clip\n",
      "[[3 3 3]\n",
      " [4 5 6]\n",
      " [6 6 6]]\n",
      "------------\n",
      "[[1. 1. 1.]\n",
      " [1. 1. 1.]\n",
      " [1. 1. 1.]]\n",
      "------------\n",
      "[[0. 0. 1.]\n",
      " [1. 1. 1.]\n",
      " [0. 0. 0.]]\n"
     ]
    }
   ],
   "source": [
    "# test clamp\n",
    "x = Carrot([[1, 2, 3], [4, 5, 6], [7, 8, 9]], requires_grad=True)\n",
    "\n",
    "y = x.clamp(3, 6)\n",
    "print(x.data)\n",
    "print(\"------------\")\n",
    "print(y.name)\n",
    "print(y.data)\n",
    "print(\"------------\")\n",
    "y.backward()\n",
    "print(y.grad.data)\n",
    "print(\"------------\")\n",
    "print(x.grad.data)"
   ]
  },
  {
   "cell_type": "code",
   "execution_count": 7,
   "metadata": {},
   "outputs": [
    {
     "name": "stdout",
     "output_type": "stream",
     "text": [
      "[1] (1,)\n",
      "[45] (1,)\n"
     ]
    }
   ],
   "source": [
    "import numpy as np\n",
    "\n",
    "a = np.array([1])\n",
    "b = np.array([[1, 2, 3], [4, 5, 6], [7, 8, 9]])\n",
    "c = a + b\n",
    "d = np.sum(b, axis=0)\n",
    "d = np.sum(d, axis=0, keepdims=True)\n",
    "print(a, a.shape)\n",
    "print(d, d.shape)\n",
    "# print(a)\n",
    "# print(b)\n",
    "# print(c)\n",
    "# print(a.shape)\n",
    "# print(b.shape)\n",
    "# print(c.shape)"
   ]
  }
 ],
 "metadata": {
  "kernelspec": {
   "display_name": "pytorch_cpu",
   "language": "python",
   "name": "python3"
  },
  "language_info": {
   "codemirror_mode": {
    "name": "ipython",
    "version": 3
   },
   "file_extension": ".py",
   "mimetype": "text/x-python",
   "name": "python",
   "nbconvert_exporter": "python",
   "pygments_lexer": "ipython3",
   "version": "3.12.7"
  }
 },
 "nbformat": 4,
 "nbformat_minor": 2
}
