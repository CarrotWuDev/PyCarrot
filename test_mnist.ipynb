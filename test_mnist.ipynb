{
 "cells": [
  {
   "cell_type": "code",
   "execution_count": 7,
   "metadata": {},
   "outputs": [],
   "source": [
    "import pycarrot.nn as nn\n",
    "import pycarrot.optim as optim\n",
    "from pycarrot.carrot import Carrot\n",
    "import numpy as np\n",
    "import pandas as pd\n",
    "import matplotlib.pyplot as plt\n",
    "import pycarrot\n",
    "import pycarrot.nn.functional as F"
   ]
  },
  {
   "cell_type": "code",
   "execution_count": 8,
   "metadata": {},
   "outputs": [],
   "source": [
    "# build data class, mainly get_iem\n",
    "class MnistDataset(object):\n",
    "\n",
    "    def __init__(self, csv_file):\n",
    "        self.df_data = pd.read_csv(csv_file, header=None)\n",
    "        pass\n",
    "\n",
    "    def __len__(self):\n",
    "        return len(self.df_data)\n",
    "\n",
    "    def __getitem__(self, index):\n",
    "        image_label = self.df_data.iloc[index, 0]\n",
    "        target = Carrot(np.zeros((10)))\n",
    "        target.data[image_label] = 1.0\n",
    "\n",
    "        image_content = np.array(self.df_data.iloc[index, 1:].values) / 255.0\n",
    "        image_content = Carrot(image_content)\n",
    "\n",
    "        return image_label, image_content, target\n",
    "    pass"
   ]
  },
  {
   "cell_type": "code",
   "execution_count": 9,
   "metadata": {},
   "outputs": [],
   "source": [
    "# build fc model\n",
    "class Classifier(nn.Module):\n",
    "    def __init__(self) -> None:\n",
    "        super().__init__()\n",
    "        self.layer1 = nn.Linear(784, 32)\n",
    "        self.sigmoid1 = nn.Sigmoid()\n",
    "        # self.relu1 = nn.ReLU()\n",
    "        self.layer2 = nn.Linear(32, 10)\n",
    "        self.sigmoid2 = nn.Sigmoid()\n",
    "        # self.relu2 = nn.ReLU()\n",
    "        pass\n",
    "\n",
    "    def forward(self, input):\n",
    "        output1 = self.layer1(input)\n",
    "        output1 = self.sigmoid1(output1)\n",
    "        output2 = self.layer2(output1)\n",
    "        output2 = self.sigmoid2(output2)\n",
    "        return output2\n",
    "\n",
    "    def train(self, input):\n",
    "        predicted = self.forward(input)\n",
    "        return predicted"
   ]
  },
  {
   "cell_type": "code",
   "execution_count": 10,
   "metadata": {},
   "outputs": [],
   "source": [
    "mnist_dataset = MnistDataset(\"data/mnist_test.csv\")\n",
    "classifier = Classifier()\n",
    "loss_function = nn.MSELoss()\n",
    "optimiser = optim.SGD(classifier.parameter(), learning_rate=0.1)"
   ]
  },
  {
   "cell_type": "code",
   "execution_count": null,
   "metadata": {},
   "outputs": [],
   "source": [
    "image_label, image_content, target = mnist_dataset[2]\n",
    "parameters_dict = classifier.state_dict()\n",
    "for parameter_name in parameters_dict:\n",
    "    print(parameter_name)"
   ]
  },
  {
   "cell_type": "code",
   "execution_count": 13,
   "metadata": {},
   "outputs": [
    {
     "name": "stdout",
     "output_type": "stream",
     "text": [
      "epoch: 1\n",
      "0.899949476287274\n",
      "[ 1.38692488e-04  1.05976896e-04  1.37867992e-04  1.40903721e-04\n",
      "  1.37937147e-04  1.29449833e-04  1.35547387e-04  1.34584951e-04\n",
      " -9.78144406e-09  1.37510537e-04]\n",
      "0.8998811434316227\n",
      "[ 1.24084674e-04  1.01658411e-04  1.24917695e-04  1.13361800e-04\n",
      "  1.20582493e-04  1.26263906e-04  1.24796393e-04  1.28830034e-04\n",
      "  1.25612213e-04 -6.00084802e-09]\n",
      "0.8998823811330773\n",
      "[ 2.31486462e-05  4.99482329e-05  1.29359785e-04  3.45638064e-05\n",
      " -1.38817247e-10  3.61887967e-05  8.86257907e-05  3.51029576e-05\n",
      "  2.34842551e-05  7.22272229e-05]\n",
      "0.8998968840262404\n",
      "[ 7.45309035e-05  7.64842466e-05  5.54940171e-05  5.29272223e-05\n",
      " -2.98981470e-09  8.35897715e-05  8.62156688e-05  8.16649048e-05\n",
      "  7.59318030e-05  7.87443393e-05]\n",
      "0.899887288550951\n",
      "[ 1.29685103e-04  1.02137123e-04  1.29939025e-04  1.33196749e-04\n",
      " -8.71770545e-09  1.21264270e-04  1.27878334e-04  1.27407384e-04\n",
      "  1.31488399e-04  1.29785748e-04]\n",
      "0.8999858131276722\n",
      "[ 9.38716356e-06 -4.25464670e-09  1.81900159e-06  2.21027688e-05\n",
      "  1.93615706e-06  6.24273027e-06  2.32410334e-05  7.77708606e-06\n",
      "  1.28433162e-04  3.91527245e-06]\n",
      "0.8998940295893616\n",
      "[ 1.30115090e-04  1.00175893e-04  1.29618025e-04  1.32360193e-04\n",
      "  1.29985179e-04  1.21731579e-04  1.27499361e-04  1.26626191e-04\n",
      "  1.31585313e-04 -8.36195254e-09]\n",
      "0.8998882603781961\n",
      "[ 1.29143407e-04  9.92486051e-05  1.28340948e-04  1.31002289e-04\n",
      "  1.28394147e-04  1.20661592e-04  1.26217078e-04 -7.85780639e-09\n",
      "  1.30293139e-04  1.28138664e-04]\n",
      "0.899942407656507\n",
      "[ 1.23674791e-04  9.74249097e-05  1.22382338e-04  1.23336916e-04\n",
      "  1.22117215e-04  1.17515988e-04  1.21804308e-04  1.21839823e-04\n",
      "  1.25153970e-04 -7.24660881e-09]\n",
      "0.8998900646783694\n",
      "[ 5.53541925e-05  6.64286456e-05  3.24512952e-05  5.11759981e-05\n",
      "  4.94827708e-05 -3.69653030e-09  6.26890041e-05  3.54361400e-05\n",
      "  1.47008408e-04  7.89374515e-05]\n"
     ]
    }
   ],
   "source": [
    "epochs = 1\n",
    "count = 0\n",
    "for epoch in range(epochs):\n",
    "    print(f\"epoch: {epoch + 1}\")\n",
    "    for image_label, image_data, image_target in mnist_dataset:\n",
    "        pred = classifier.train(image_data.reshape([-1, 784]))\n",
    "        count += 1\n",
    "        loss = loss_function(pred, image_target.reshape([-1, 10]))\n",
    "        # loss = (pred - image_target.reshape([-1, 10])) ** 2\n",
    "        # loss.data /= 60000\n",
    "        if count % 1000 == 0:\n",
    "            print(loss.data)\n",
    "            print(classifier.state_dict()[\"layer2.bias\"].grad.data)\n",
    "        optimiser.zero_grad()\n",
    "        loss.backward()\n",
    "        optimiser.step()\n",
    "    pass"
   ]
  }
 ],
 "metadata": {
  "kernelspec": {
   "display_name": "pytorch_gpu",
   "language": "python",
   "name": "python3"
  },
  "language_info": {
   "codemirror_mode": {
    "name": "ipython",
    "version": 3
   },
   "file_extension": ".py",
   "mimetype": "text/x-python",
   "name": "python",
   "nbconvert_exporter": "python",
   "pygments_lexer": "ipython3",
   "version": "3.12.3"
  }
 },
 "nbformat": 4,
 "nbformat_minor": 2
}
